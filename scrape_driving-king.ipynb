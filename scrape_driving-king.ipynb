{
 "cells": [
  {
   "cell_type": "markdown",
   "id": "f87919fa-8ffc-42ad-bda9-5946b51fc8b6",
   "metadata": {},
   "source": [
    "# Scraping Instructor Information from DrivingKing.hk\n",
    "\n",
    "**Overview**: This notebook scrapes instructor data from the DrivingKing.hk coaching directory using Selenium. It collects both summary information (from the cards) and detailed profile data (from modal/profile pages), saving it into a structured dictionary.\n",
    "\n",
    "\n"
   ]
  },
  {
   "cell_type": "code",
   "execution_count": 1,
   "id": "25235b07-be25-4d0d-bd85-2829d0ff2fce",
   "metadata": {},
   "outputs": [],
   "source": [
    "from selenium import webdriver\n",
    "from selenium.webdriver.common.by import By\n",
    "from selenium.common.exceptions import NoSuchElementException, TimeoutException\n",
    "import time\n",
    "from selenium import webdriver\n",
    "from selenium.webdriver.common.by import By\n",
    "from selenium.webdriver.support.ui import WebDriverWait\n",
    "from selenium.webdriver.support import expected_conditions as EC"
   ]
  },
  {
   "cell_type": "markdown",
   "id": "c5518b21-6d64-448b-afe0-b9d64b663ece",
   "metadata": {},
   "source": [
    "### Extract Basic Info from Coach Card"
   ]
  },
  {
   "cell_type": "code",
   "execution_count": 2,
   "id": "0ce06fe3-fda6-4472-9028-a9c3bf0d953b",
   "metadata": {},
   "outputs": [],
   "source": [
    "\n",
    "def get_card_info(coach_card):\n",
    "    \"\"\"\n",
    "    Gets basic card info of each instructor in a page.\n",
    "    \"\"\"\n",
    "    WebDriverWait(driver, 5).until(EC.presence_of_all_elements_located((By.CLASS_NAME, \"textRow_text\")))\n",
    "    name = coach_card.find_element(By.CLASS_NAME, \"coachCard_name\").text\n",
    "    area = coach_card.find_element(By.CLASS_NAME, \"coachCard_district\").text\n",
    "    text_rows = [i.text for i in coach_card.find_elements(By.CLASS_NAME, \"textRow_text\")]\n",
    "    try:\n",
    "        car_model = text_rows[0]\n",
    "    except:\n",
    "        car_model = None\n",
    "        \n",
    "    try:\n",
    "        regular_lessons = text_rows[1]\n",
    "    except:\n",
    "        regular_lessons = None\n",
    "    \n",
    "    try:\n",
    "        supplementary_lessons = text_rows[2]\n",
    "    except:\n",
    "        supplementary_lessons = None\n",
    "\n",
    "    data = {\n",
    "        \"name\": name,\n",
    "        \"area\": area,\n",
    "        \"regular lesson fee\": regular_lessons,\n",
    "        \"supplementary lesson fee\": supplementary_lessons\n",
    "    }\n",
    "\n",
    "    return data"
   ]
  },
  {
   "cell_type": "markdown",
   "id": "4fede622-b3e0-41c6-ac7b-70ed9e6d9c8c",
   "metadata": {},
   "source": [
    "### Extract Detailed Info from Profile Page"
   ]
  },
  {
   "cell_type": "code",
   "execution_count": 4,
   "id": "fd348d5f-bc20-4e8a-8225-80037121ff70",
   "metadata": {},
   "outputs": [],
   "source": [
    "def safe_find_text(parent, by, value):\n",
    "    try: \n",
    "        return parent.find_element(by, value).text\n",
    "    except NoSuchElementException:\n",
    "        return None\n",
    "    except AttributeError:\n",
    "        return None\n",
    "\n",
    "def get_more_details(profile):\n",
    "    \"\"\"\n",
    "    Gets additi0nal info for each instructor after clicking their card.\n",
    "    \"\"\"\n",
    "\n",
    "    try:\n",
    "        WebDriverWait(driver, 5).until(EC.presence_of_all_elements_located((By.CLASS_NAME, \"coach_description_content\")))\n",
    "    except TimeoutException:\n",
    "        print(\"Element not found, skipping...\")\n",
    "            \n",
    "    \n",
    "    try:\n",
    "        name = profile.find_element(By.CLASS_NAME, \"coachName\").text\n",
    "    except:\n",
    "        name = None\n",
    "    \n",
    "    try:\n",
    "        desc = profile.find_element(By.CLASS_NAME, \"coach_description_content\").text\n",
    "    except: \n",
    "        desc = None\n",
    "\n",
    "    try:\n",
    "        if profile.find_element(By.CLASS_NAME, \"coachMaleSex\"):\n",
    "            gender = \"M\"\n",
    "    except NoSuchElementException:\n",
    "        try:\n",
    "            if profile.find_element(By.CLASS_NAME, \"coachFemaleSex\"):\n",
    "                gender = \"F\"\n",
    "        except NoSuchElementException:\n",
    "            gender = None\n",
    "    \n",
    "    # for both car option (price_type[0]) and pickup location (price_type[1]), usually\n",
    "    price_type = profile.find_elements(By.CLASS_NAME, \"price_type\")\n",
    "\n",
    "    is_car = False # icon for on car options is present\n",
    "    is_loc = False\n",
    "    teach_disabled = False\n",
    "    for row_text in price_type:\n",
    "        try: \n",
    "            if (row_text.find_element(By.CSS_SELECTOR, \".icon_image.carType\")):\n",
    "                is_car = True\n",
    "                \n",
    "        except NoSuchElementException:\n",
    "            pass\n",
    "            \n",
    "        try: \n",
    "            if (row_text.find_element(By.CSS_SELECTOR, \".icon_image.place\")):\n",
    "                is_loc = True\n",
    "        except NoSuchElementException:\n",
    "            pass\n",
    "\n",
    "        try: \n",
    "            if (row_text.find_element(By.CSS_SELECTOR, \".icon_image.disabled\")):\n",
    "                teach_disabled = True\n",
    "        except NoSuchElementException:\n",
    "            pass\n",
    "\n",
    "    if (is_car):\n",
    "        car_spec = [i.text for i in price_type[0].find_elements(By.CSS_SELECTOR, \"tbody tr\")]\n",
    "        num_cars = len(car_spec)\n",
    "    \n",
    "        # for multiple car options\n",
    "        if num_cars >= 1:\n",
    "            try:\n",
    "                car_type = []\n",
    "                car_model = []\n",
    "                for i in range(num_cars):\n",
    "                    temp = car_spec[i].split(\"\\n\")\n",
    "                    car_type.append(temp[0].strip())\n",
    "                    car_model.append(temp[1].strip())\n",
    "                car_type = \", \".join(car_type)\n",
    "                car_model = \", \".join(car_model)\n",
    "\n",
    "            # Either no car type or no car model\n",
    "            except:\n",
    "                car_type = None\n",
    "                car_model = None\n",
    "            \n",
    "        else:\n",
    "            car_type = None\n",
    "            car_model = None\n",
    "\n",
    "        # if car and location icons are present\n",
    "        if (is_loc):\n",
    "            pickup_loc = price_type[1].find_element(By.CLASS_NAME, \"field_value\").text\n",
    "\n",
    "        # only car icon is present\n",
    "        else:\n",
    "            pickup_loc = None\n",
    "                \n",
    "                \n",
    "    # only pickup location icon is present        \n",
    "    elif ( not is_car ) and ( is_loc ) :\n",
    "        pickup_loc = price_type[0].find_element(By.CLASS_NAME, \"field_value\").text\n",
    "        car_type = None\n",
    "        car_model = None\n",
    "        num_cars = 0\n",
    "   \n",
    "        \n",
    "    try:\n",
    "        awards = profile.find_element(By.CLASS_NAME,\"price_type_content.awards\").text\n",
    "    except NoSuchElementException:\n",
    "        awards = None\n",
    "\n",
    "    try:\n",
    "        session_duration = profile.find_element(By.CLASS_NAME, \"description\").text\n",
    "    except:\n",
    "        session_duration = None\n",
    "        \n",
    "    # on exam day\n",
    "    try:\n",
    "        learn_exam = profile.find_element(By.CLASS_NAME, \"priceTable.learnExam\")\n",
    "    except:\n",
    "        learn_exam = None\n",
    "    \n",
    "    try:\n",
    "        rent_car_type = learn_exam.find_element(By.CLASS_NAME, \"row_value.firstCol\").text\n",
    "    except:\n",
    "        rent_car_type = None\n",
    "        \n",
    "    try:\n",
    "        toll_fee = learn_exam.find_element(By.CLASS_NAME, \"row_value.secondCol\").text\n",
    "    except:\n",
    "        toll_fee = None\n",
    "    try:\n",
    "        rent_car_fee = learn_exam.find_element(By.CLASS_NAME, \"row_value.thirdCol\").text\n",
    "    except:\n",
    "        rent_car_fee = None\n",
    "        \n",
    "    # discounted pricing \n",
    "    try:\n",
    "        extra_lesson = profile.find_element(By.CLASS_NAME, \"priceTable.extraLesson\")\n",
    "    except:\n",
    "        extra_lesson = None\n",
    "\n",
    "    try:\n",
    "        discounted_rent_car_type = extra_lesson.find_element(By.CLASS_NAME, \"row_value.firstCol_grid4\").text\n",
    "    except:\n",
    "        discounted_rent_car_type = None\n",
    "\n",
    "    try:\n",
    "        licensed_driver = extra_lesson.find_element(By.CLASS_NAME, \"row_value.secondCol_grid4\").text\n",
    "    except:\n",
    "        licensed_driver = None\n",
    "    \n",
    "    try:\n",
    "        school_card_holders = extra_lesson.find_element(By.CLASS_NAME, \"row_value.thirdCol_grid4\").text\n",
    "    except:\n",
    "        school_card_holders = None\n",
    "    \n",
    "    try:\n",
    "        faculty_members = extra_lesson.find_element(By.CLASS_NAME, \"row_value.fourthCol_grid4\").text\n",
    "    except:\n",
    "        faculty_members = None\n",
    "\n",
    "    try:\n",
    "        insurance_cert = profile.find_element(By.CLASS_NAME, \"coach_certificateAndInsurance_item\").text\n",
    "    except:\n",
    "        insurance_cert = None\n",
    "        \n",
    "    data = {\n",
    "      \"gender\": gender,\n",
    "      \"description\": desc,\n",
    "      \"car_type\": car_type,\n",
    "      \"car model/s\": car_model,\n",
    "      \"pickup location\": pickup_loc,\n",
    "      \"disability accomodation\": teach_disabled,\n",
    "      \"awards\": awards,\n",
    "      \"session duration\": session_duration,\n",
    "      \"number of car options\": num_cars,\n",
    "      \"rental car type/s\": rent_car_type,\n",
    "      \"toll fee\": toll_fee,\n",
    "      \"car rental fee\": rent_car_fee,\n",
    "      \"rental car type\": discounted_rent_car_type,\n",
    "      \"licensed driver fee\": licensed_driver,\n",
    "      \"school card holders\": school_card_holders,\n",
    "      \"faculty members fee\": faculty_members,\n",
    "      \"insurance\": insurance_cert\n",
    "    }\n",
    "\n",
    "    return data\n"
   ]
  },
  {
   "cell_type": "markdown",
   "id": "fd7f1f62-d4d7-4d36-ba01-0c5744777fc8",
   "metadata": {},
   "source": [
    "### Scrape All Pages"
   ]
  },
  {
   "cell_type": "code",
   "execution_count": 5,
   "id": "3e147c37-e299-46ce-a9b9-fe1b8683c9bd",
   "metadata": {},
   "outputs": [
    {
     "name": "stdout",
     "output_type": "stream",
     "text": [
      "page:  2\n",
      "page:  3\n",
      "page:  4\n",
      "page:  5\n",
      "page:  6\n",
      "Element not found, skipping...\n",
      "page:  7\n",
      "page:  8\n",
      "page:  9\n",
      "Reached the last page.\n"
     ]
    }
   ],
   "source": [
    "driver = webdriver.Chrome()\n",
    "url = \"https://www.drivingking.hk/webCoach/searchCoach?carType=&carModel=&coachName=&courseOrderOperationId=&district=&language=&offset=&operationType=&orderStatus=&orderType=&pickUpLocationId=&pickUpLocation=&schoolPlaceId=&schoolPlace=&pageNo=1&fromPage=\"\n",
    "driver.get(url)\n",
    "current_page = 1\n",
    "max_page = 11\n",
    "\n",
    "profile_db = []\n",
    "\n",
    "while current_page <= max_page:\n",
    "    WebDriverWait(driver, 5).until(EC.presence_of_all_elements_located((By.CLASS_NAME, \"coachCard\")))\n",
    "    cards = driver.find_elements(By.CLASS_NAME, \"coachCard\")\n",
    "    \n",
    "    for i in range(len(cards)):\n",
    "        cards = driver.find_elements(By.CLASS_NAME, \"coachCard\")\n",
    "        card = cards[i]\n",
    "        basic_info = get_card_info(card)\n",
    "\n",
    "        driver.execute_script(\"arguments[0].scrollIntoView(true);\", card)\n",
    "        driver.execute_script(\"arguments[0].click();\", card)\n",
    "\n",
    "        WebDriverWait(driver, 5).until(EC.presence_of_all_elements_located((By.CLASS_NAME, \"profileContainer\")))\n",
    "        profile = driver.find_element(By.CLASS_NAME, \"profileContainer\")\n",
    "        additional_info = get_more_details(profile)\n",
    "        driver.back()\n",
    "        WebDriverWait(driver, 5).until(EC.presence_of_all_elements_located((By.CLASS_NAME, \"coachCard\")))\n",
    "        merged = {**basic_info, **additional_info}\n",
    "        profile_db.append(merged)\n",
    "\n",
    "    try:\n",
    "        next_button = driver.find_element(By.ID, \"mobilePagination_nextPage\")\n",
    "    except NoSuchElementException:\n",
    "        try:\n",
    "            next_button = driver.find_element(By.ID, \"nextPageButton\")\n",
    "            print(\"page: \", current_page)\n",
    "        except NoSuchElementException:\n",
    "            print(\"Reached the last page.\")\n",
    "            break  \n",
    "    driver.execute_script(\"arguments[0].click();\", next_button)\n",
    "    WebDriverWait(driver, 5).until(EC.presence_of_all_elements_located((By.CLASS_NAME, \"coachCard\")))\n",
    "    \n",
    "    current_page += 1"
   ]
  },
  {
   "cell_type": "code",
   "execution_count": 6,
   "id": "df85891e-cc03-4509-83c8-8b9e11d506c8",
   "metadata": {},
   "outputs": [
    {
     "name": "stdout",
     "output_type": "stream",
     "text": [
      "success\n"
     ]
    }
   ],
   "source": [
    "import csv\n",
    "output_file = \"driving_instructors.csv\"\n",
    "with open(output_file, mode=\"w\", encoding=\"utf-8-sig\", newline=\"\") as file:\n",
    "    writer = csv.DictWriter(file, fieldnames=profile_db[0].keys())\n",
    "    writer.writeheader()\n",
    "    writer.writerows(profile_db)\n",
    "print(\"success\")"
   ]
  },
  {
   "cell_type": "markdown",
   "id": "ce91a8d8-7eee-4b32-a793-3d8f5568da8c",
   "metadata": {},
   "source": [
    "# Basic Analysis"
   ]
  },
  {
   "cell_type": "markdown",
   "id": "d7f50bb3-c99e-4948-b703-911beb6ef91b",
   "metadata": {},
   "source": [
    "First re-store the collected data from csv file to a dataframe as an accessible relational database."
   ]
  },
  {
   "cell_type": "code",
   "execution_count": 11,
   "id": "3abc2217-e1d3-4833-bcd1-caddec268cf7",
   "metadata": {},
   "outputs": [
    {
     "name": "stdout",
     "output_type": "stream",
     "text": [
      "['Name', 'Area', 'Regular lesson fee', 'Supplementary lesson fee', 'Gender', 'Description', 'Car_type', 'Car model/s', 'Pickup location', 'Disability accomodation', 'Awards', 'Session duration', 'Number of car options', 'Rental car type/s', 'Toll fee', 'Car rental fee', 'Rental car type', 'Licensed driver fee', 'School card holders', 'Faculty members fee', 'Insurance']\n"
     ]
    }
   ],
   "source": [
    "with open(output_file, mode=\"r\", encoding=\"utf-8-sig\") as in_file:\n",
    "    reader = csv.reader(in_file)\n",
    "    header = next(reader)\n",
    "    header = [cap_header.capitalize() for cap_header in header]\n",
    "    print(header)\n",
    "    reader = list(reader)\n",
    "\n",
    "    name_index = header.index(\"Name\")\n",
    "    \n",
    "    area_index = header.index(\"Area\")\n",
    "    area_val = [row[area_index] for row in reader]\n",
    "    \n",
    "    reg_lesson_fee_index = header.index(\"Regular lesson fee\")\n",
    "    reg_lesson_fee_value = [row[reg_lesson_fee_index] for row in reader]\n",
    "    \n",
    "    supplementary_fee_index = header.index(\"Supplementary lesson fee\")\n",
    "    supplementary_lesson_fee_value = [row[supplementary_fee_index] for row in reader]\n",
    "    \n",
    "    gender_index = header.index(\"Gender\")\n",
    "    gender_value = [row[gender_index] for row in reader]\n",
    "    \n",
    "    description_index = header.index(\"Description\")\n",
    "    car_type_index = header.index(\"Car_type\")\n",
    "    car_type_value = [row[car_type_index] for row in reader]\n",
    "    \n",
    "    car_model_index = header.index(\"Car model/s\")\n",
    "    car_model_value = [row[car_model_index] for row in reader]\n",
    "    \n",
    "    pickup_loc_index = header.index(\"Pickup location\")\n",
    "    \n",
    "    disability_index = header.index(\"Disability accomodation\")\n",
    "    disability_value = [row[disability_index] for row in reader]\n",
    "    \n",
    "    awards_index = header.index(\"Awards\")\n",
    "    awards_value = [row[awards_index] for row in reader]\n",
    "    \n",
    "    session_index = header.index(\"Session duration\")\n",
    "    session_value = [row[session_index] for row in reader]\n",
    "    \n",
    "    num_cars_index = header.index(\"Number of car options\")\n",
    "    num_cars_value = [row[num_cars_index] for row in reader]\n",
    "    \n",
    "    rent_car_type_index= header.index(\"Rental car type/s\")\n",
    "    rent_car_type_value = [row[rent_car_type_index] for row in reader]\n",
    "    \n",
    "    toll_fee_index = header.index(\"Toll fee\")\n",
    "    toll_fee_value = [row[toll_fee_index] for row in reader]\n",
    "    \n",
    "    car_rental_fee_index = header.index(\"Car rental fee\")\n",
    "    car_rental_fee_value = [row[car_rental_fee_index] for row in reader]\n",
    "    \n",
    "    car_rental_type_index = header.index(\"Rental car type\")\n",
    "    car_rental_type_value = [row[car_rental_type_index] for row in reader]\n",
    "    \n",
    "    licensed_fee_index = header.index(\"Licensed driver fee\")\n",
    "    licensed_fee_value = [row[licensed_fee_index] for row in reader]\n",
    "    \n",
    "    school_card_holders_index = header.index(\"School card holders\")\n",
    "    school_card_holders_value = [row[school_card_holders_index] for row in reader]\n",
    "    \n",
    "    \n",
    "    faculty_fee_index = header.index(\"Faculty members fee\")\n",
    "    faculty_fee_value = [row[faculty_fee_index] for row in reader]\n",
    "    \n",
    "    insurance_index = header.index(\"Insurance\")\n",
    "    insurance_value = [row[insurance_index] for row in reader]\n",
    "\n",
    "    "
   ]
  },
  {
   "cell_type": "markdown",
   "id": "94fdb9df-b4bc-445e-acc5-d0698008b129",
   "metadata": {},
   "source": [
    "Next, for each field we count the number of unique categories and number of instances per category. We use the code blocks above and perform syntactic modifications to turn them into runnable code blocks for our purpose above\n",
    "\n",
    "Of course, we can make a simpler function, but the code below explains the logic more clearly."
   ]
  },
  {
   "cell_type": "code",
   "execution_count": 12,
   "id": "4152b6d7-4898-4e53-ad84-170720808947",
   "metadata": {},
   "outputs": [],
   "source": [
    "def pretty_print(category):\n",
    "    for key, value in category.items():\n",
    "        if key == '':\n",
    "            print(f\"No entry: {value}\")\n",
    "        else: \n",
    "            print(f\"{key}: {value}\")"
   ]
  },
  {
   "cell_type": "code",
   "execution_count": 13,
   "id": "59b5eb84-eb6f-46b0-a781-8c74f11d524c",
   "metadata": {
    "scrolled": true
   },
   "outputs": [],
   "source": [
    "string = \"\"\"area_index = header.index(\"Area\")\n",
    "    area_val = [row[area_index] for row in reader]\n",
    "    reg_lesson_fee_index = header.index(\"Regular Lesson Fee\")\n",
    "    reg_lesson_fee_value = [row[reg_lesson_fee_index] for row in reader]\n",
    "    supplementary_fee_index = header.index(\"Supplementary Lesson Fee\")\n",
    "    supplementary_lesson_fee_value = [row[supplementary_lesson_fee_index] for row in reader]\n",
    "    gender_index = header.index(\"Gender\")\n",
    "    gender_value = [row[gender_index] for row in reader]\n",
    "    car_type_index = header.index(\"Car Type/s\")\n",
    "    car_type_value = [row[car_type_index] for row in reader]\n",
    "    car_model_index = header.index(\"Car Model/s\")\n",
    "    car_model_value = [row[car_model_index] for row in reader]\n",
    "    disability_index = header.index(\"Disability Accomodation\")\n",
    "    disability_value = [row[disability_index] for row in reader]\n",
    "    awards_index = header.index(\"Awards\")\n",
    "    awards_value = [row[awards_index] for row in reader]\n",
    "    session_index = header.index(\"Session Duration\")\n",
    "    session_value = [row[session_index] for row in reader]\n",
    "    num_cars_index = header.index(\"Number of Car Options\")\n",
    "    num_cars_value = [row[num_cars_index] for row in reader]\n",
    "    rent_car_type_index= header.index(\"Rental Car Type/s\")\n",
    "    rent_car_type_value = [row[rent_car_type_index] for row in reader]\n",
    "    toll_fee_index = header.index(\"Toll Fee\")\n",
    "    toll_fee_value = [row[toll_fee_index] for row in reader]\n",
    "    car_rental_fee_index = header.index(\"Car Rental Fee\")\n",
    "    car_rental_fee_value = [row[car_rental_fee_index] for row in reader]\n",
    "    car_rental_type_index = header.index(\"Rental Car Type\")\n",
    "    car_rental_type_value = [row[car_rental_type_index] for row in reader]\n",
    "    licensed_fee_index = header.index(\"Licensed Driver Fee\")\n",
    "    licensed_fee_value = [row[licensed_fee_index] for row in reader]\n",
    "    school_card_holders_index = header.index(\"School Card Holders\")\n",
    "    school_card_holders_value = [row[school_card_holders_index] for row in reader]\n",
    "    faculty_fee_index = header.index(\"Faculty Members Fee\")\n",
    "    faculty_fee_value = [row[faculty_fee_index] for row in reader]\n",
    "    insurance_index = header.index(\"Insurance\")\n",
    "    insurance_value = [row[insurance_fee_index] for row in reader]\n",
    "    \"\"\"\n",
    "my_list = []\n",
    "add_category = True\n",
    "for i in string.split(\"\\n\"):\n",
    "    # print(counter)\n",
    "    first_word = i.strip().split(\" \")[0]\n",
    "    category = first_word.split(\"_\")[0]\n",
    "    if (add_category):\n",
    "        my_list.append(category)\n",
    "        add_category = False\n",
    "\n",
    "    else:\n",
    "        add_category = True\n",
    "    my_list.append(first_word)\n",
    "        \n",
    "for i in range(0, len(my_list), 3):\n",
    "    if i + 2 >= len(my_list):\n",
    "        break  # avoid index out of range\n",
    "    category = my_list[i]\n",
    "    index = my_list[i + 1]\n",
    "    value = my_list[i + 2]\n",
    "\n",
    "# uncomment code below to print copy-pasteable code for next section\n",
    "#     print(f\"\"\"\n",
    "# {category}_category = set({value})\n",
    "# {category}_count = {{}}\n",
    "# for i in {category}_category:\n",
    "#     {category}_count[i] = {value}.count(i)\n",
    "\n",
    "# print({category}_count)\n",
    "# \"\"\")"
   ]
  },
  {
   "cell_type": "markdown",
   "id": "44bc2a79-b9c2-42e7-af91-262a7b5fce9a",
   "metadata": {},
   "source": [
    "Now, we perform basic counting statistics."
   ]
  },
  {
   "cell_type": "code",
   "execution_count": 16,
   "id": "38cd7f7e-7160-4190-bc5f-d821562de9e6",
   "metadata": {},
   "outputs": [],
   "source": [
    "area_category = set(area_val)\n",
    "area_count = {}\n",
    "for i in area_category:\n",
    "    area_count[i] = area_val.count(i)\n",
    "\n",
    "reg_category = set(reg_lesson_fee_value)\n",
    "reg_count = {}\n",
    "for i in reg_category:\n",
    "    reg_count[i] = reg_lesson_fee_value.count(i)\n",
    "\n",
    "supplementary_category = set(supplementary_lesson_fee_value)\n",
    "supplementary_count = {}\n",
    "for i in supplementary_category:\n",
    "    supplementary_count[i] = supplementary_lesson_fee_value.count(i)\n",
    "\n",
    "gender_category = set(gender_value)\n",
    "gender_count = {}\n",
    "for i in gender_category:\n",
    "    gender_count[i] = gender_value.count(i)\n",
    "\n",
    "car_type_category = set(car_type_value)\n",
    "car_type_count = {}\n",
    "for i in car_type_category:\n",
    "    car_type_count[i] = car_type_value.count(i)\n",
    "\n",
    "car_model_category = set(car_model_value)\n",
    "car_model_count = {}\n",
    "for i in car_model_category:\n",
    "    car_model_count[i] = car_model_value.count(i)\n",
    "\n",
    "disability_category = set(disability_value)\n",
    "disability_count = {}\n",
    "for i in disability_category:\n",
    "    disability_count[i] = disability_value.count(i)\n",
    "\n",
    "awards_category = set(awards_value)\n",
    "awards_count = {}\n",
    "for i in awards_category:\n",
    "    awards_count[i] = awards_value.count(i)\n",
    "\n",
    "session_category = set(session_value)\n",
    "session_count = {}\n",
    "for i in session_category:\n",
    "    session_count[i] = session_value.count(i)\n",
    "\n",
    "num_category = set(num_cars_value)\n",
    "num_count = {}\n",
    "for i in num_category:\n",
    "    num_count[i] = num_cars_value.count(i)\n",
    "\n",
    "rent_car_type_category = set(rent_car_type_value)\n",
    "rent_car_type_count = {}\n",
    "for i in rent_car_type_category:\n",
    "    rent_car_type_count[i] = rent_car_type_value.count(i)\n",
    "\n",
    "toll_category = set(toll_fee_value)\n",
    "toll_count = {}\n",
    "for i in toll_category:\n",
    "    toll_count[i] = toll_fee_value.count(i)\n",
    "\n",
    "car_rental_fee_category = set(car_rental_fee_value)\n",
    "car_rental_fee_count = {}\n",
    "for i in car_rental_fee_category:\n",
    "    car_rental_fee_count[i] = car_rental_fee_value.count(i)\n",
    "\n",
    "car_rental_type_category = set(car_rental_type_value)\n",
    "car_rental_type_count = {}\n",
    "for i in car_rental_type_category:\n",
    "    car_rental_type_count[i] = car_rental_type_value.count(i)\n",
    "\n",
    "licensed_category = set(licensed_fee_value)\n",
    "licensed_count = {}\n",
    "for i in licensed_category:\n",
    "    licensed_count[i] = licensed_fee_value.count(i)\n",
    "\n",
    "school_category = set(school_card_holders_value)\n",
    "school_count = {}\n",
    "for i in school_category:\n",
    "    school_count[i] = school_card_holders_value.count(i)\n",
    "\n",
    "faculty_category = set(faculty_fee_value)\n",
    "faculty_count = {}\n",
    "for i in faculty_category:\n",
    "    faculty_count[i] = faculty_fee_value.count(i)\n",
    "\n",
    "insurance_category = set(insurance_value)\n",
    "insurance_count = {}\n",
    "for i in insurance_category:\n",
    "    insurance_count[i] = insurance_value.count(i)\n"
   ]
  },
  {
   "cell_type": "markdown",
   "id": "9635a50c-9f8d-40e5-8490-cc559ee2052e",
   "metadata": {
    "jp-MarkdownHeadingCollapsed": true
   },
   "source": [
    "<br>\n",
    "\n",
    "### **Parameter: `area`**\n",
    "\n",
    "**Description:**  \n",
    "The `area` parameter represents the geographical region associated with each data entry. It includes various combinations of three main regions in Hong Kong:  \n",
    "- **香港** (Hong Kong Island)  \n",
    "- **九龍** (Kowloon)  \n",
    "- **新界** (New Territories)\n",
    "\n",
    "---\n",
    "\n",
    "### **Data Summary**\n",
    "\n",
    "| Area              | Count |\n",
    "|-------------------|-------|\n",
    "| 香港              | 25    |\n",
    "| 香港 九龍 新界    | 18    |\n",
    "| 香港 九龍         | 4     |\n",
    "| 九龍              | 14    |\n",
    "| 九龍 新界         | 126   |\n",
    "| 新界              | 4     |\n",
    "\n",
    "---\n",
    "\n",
    "### **Analysis**\n",
    "\n",
    "- The most frequent region combination is **九龍 新界** with **126 entries**, indicating a significant concentration in these areas.\n",
    "- **香港** (25) and **九龍** (14) also have moderate representation individually.\n",
    "- Combinations involving all three regions (**香港 九龍 新界**) or **香港 九龍** are less common.\n",
    "- **新界** alone has minimal representation (**4 entries**), suggesting it is often grouped with 九龍.\n"
   ]
  },
  {
   "cell_type": "code",
   "execution_count": 106,
   "id": "8855a9a6-d118-4050-9421-739797f48c49",
   "metadata": {
    "collapsed": true,
    "jupyter": {
     "outputs_hidden": true
    }
   },
   "outputs": [
    {
     "name": "stdout",
     "output_type": "stream",
     "text": [
      "香港: 25\n",
      "香港 九龍 新界: 18\n",
      "香港 九龍: 4\n",
      "九龍: 14\n",
      "九龍 新界: 126\n",
      "新界: 4\n"
     ]
    }
   ],
   "source": [
    "pretty_print(area_count)"
   ]
  },
  {
   "cell_type": "markdown",
   "id": "3967483e-98be-419c-bb54-029ea3396ba9",
   "metadata": {},
   "source": [
    "<br>\n",
    "\n",
    "### Parameter: `regular lesson fees`\n",
    "\n",
    "**Description:**  \n",
    "This parameter represents the stated cost per session for a regular driving lesson. It includes:\n",
    "- Exact prices (e.g., `$330 per session`)\n",
    "- Price ranges (e.g., `$330–350 per session`)\n",
    "- Missing entries labeled as `No entry`\n",
    "\n",
    "---\n",
    "\n",
    "### Data Summary\n",
    "```\n",
    "| Fee Range            | Count |\n",
    "|----------------------|-------|\n",
    "| No entry             | 18    |\n",
    "| $300 per session     | 7     |\n",
    "| $310 per session     | 4     |\n",
    "| $320 per session     | 13    |\n",
    "| $330 per session     | 27    |\n",
    "| $330–350 per session | 1     |\n",
    "| $330–450 per session | 1     |\n",
    "| $340 per session     | 23    |\n",
    "| $340–350 per session | 1     |\n",
    "| $340–360 per session | 1     |\n",
    "| $340–370 per session | 1     |\n",
    "| $350 per session     | 59    |\n",
    "| $350–380 per session | 1     |\n",
    "| $350–420 per session | 1     |\n",
    "| $355 per session     | 1     |\n",
    "| $360 per session     | 5     |\n",
    "| $370 per session     | 2     |\n",
    "| $380 per session     | 13    |\n",
    "| $380–450 per session | 1     |\n",
    "| $380–500 per session | 1     |\n",
    "| $400 per session     | 6     |\n",
    "| $420 per session     | 3     |\n",
    "| $450 per session     | 1     |\n",
    "```\n",
    "---\n",
    "\n",
    "**Analysis**\n",
    "\n",
    "- The most common fee is **HKD 350 per session**, appearing 59 times, suggesting it is the standard market rate.\n",
    "- **HKD 330 per session** (27 entries) and **$HKD 40 per session** (23 entries) are also frequent, representing the mid-range.\n",
    "- A few entries use **price ranges**, possibly indicating negotiable or flexible rates.\n",
    "- Higher-end prices such as **HKD 400 to HKD 450 per session** are rare.\n",
    "- 18 records have no fee listed, possibly due to incomplete data or private arrangements.\n"
   ]
  },
  {
   "cell_type": "code",
   "execution_count": 111,
   "id": "275fac84-3d2e-40f6-8b0d-c2c1d2209bc0",
   "metadata": {
    "collapsed": true,
    "jupyter": {
     "outputs_hidden": true
    },
    "scrolled": true
   },
   "outputs": [
    {
     "name": "stdout",
     "output_type": "stream",
     "text": [
      "No entry: 18\n",
      "$320/節: 13\n",
      "$380-450/節: 1\n",
      "$330/節: 27\n",
      "$330-350/節: 1\n",
      "$350/節: 59\n",
      "$370/節: 2\n",
      "$350-420/節: 1\n",
      "$380-500/節: 1\n",
      "$355/節: 1\n",
      "$350-380/節: 1\n",
      "$310/節: 4\n",
      "$300/節: 7\n",
      "$330-450/節: 1\n",
      "$420/節: 3\n",
      "$340-360/節: 1\n",
      "$360/節: 5\n",
      "$340/節: 23\n",
      "$380/節: 13\n",
      "$340-370/節: 1\n",
      "$400/節: 6\n",
      "$450/節: 1\n",
      "$340-350/節: 1\n"
     ]
    }
   ],
   "source": [
    "pretty_print(reg_count)"
   ]
  },
  {
   "cell_type": "markdown",
   "id": "452b8318-1e1f-459a-9910-8a7e2c5cb5ed",
   "metadata": {},
   "source": [
    "<br>\n",
    "\n",
    "### Parameter: `supplementary lesson fees`\n",
    "\n",
    "**Description:**  \n",
    "This parameter reflects the cost per session for supplementary (additional) driving lessons. These lessons are usually optional or tailored sessions beyond the standard curriculum. Prices are either fixed or presented as ranges, and some entries may be missing.\n",
    "\n",
    "**Analysis**\n",
    "\n",
    "- **HKD 450 per session** is the most frequently listed rate, suggesting it is the prevailing rate for supplementary lessons.\n",
    "- **HKD 400** and **HKD 500 per session** also appear frequently, indicating a broad standard range between $400–$500.\n",
    "- The presence of many ranged fees shows that supplementary lesson pricing is often flexible or negotiable.\n"
   ]
  },
  {
   "cell_type": "code",
   "execution_count": 112,
   "id": "d7fea63b-d4fd-482f-bc9b-3386606eeada",
   "metadata": {
    "collapsed": true,
    "jupyter": {
     "outputs_hidden": true
    },
    "scrolled": true
   },
   "outputs": [
    {
     "name": "stdout",
     "output_type": "stream",
     "text": [
      "No entry: 24\n",
      "$425-475/節: 1\n",
      "$380-450/節: 1\n",
      "$425/節: 1\n",
      "$480/節: 12\n",
      "$400-500/節: 4\n",
      "$420-460/節: 1\n",
      "$430-500/節: 1\n",
      "$350/節: 2\n",
      "$440-450/節: 1\n",
      "$400-450/節: 10\n",
      "$370/節: 1\n",
      "$380-420/節: 1\n",
      "$450-600/節: 1\n",
      "$520-650/節: 1\n",
      "$400-570/節: 1\n",
      "$500/節: 14\n",
      "$700/節: 1\n",
      "$350-450/節: 1\n",
      "$450-500/節: 13\n",
      "$400-550/節: 1\n",
      "$440/節: 1\n",
      "$430-450/節: 2\n",
      "$430-460/節: 1\n",
      "$550-650/節: 1\n",
      "$450-490/節: 1\n",
      "$350-400/節: 4\n",
      "$420-480/節: 1\n",
      "$430/節: 3\n",
      "$420-550/節: 1\n",
      "$425-500/節: 1\n",
      "$425-450/節: 1\n",
      "$350-425/節: 1\n",
      "$450-530/節: 1\n",
      "$500-600/節: 2\n",
      "$375-450/節: 1\n",
      "$420-470/節: 1\n",
      "$420/節: 6\n",
      "$550/節: 4\n",
      "$370-420/節: 1\n",
      "$430-480/節: 1\n",
      "$500-550/節: 3\n",
      "$380-550/節: 1\n",
      "$400-430/節: 1\n",
      "$450-550/節: 2\n",
      "$400/節: 21\n",
      "$450/節: 31\n",
      "$420-450/節: 1\n",
      "$400-420/節: 3\n"
     ]
    }
   ],
   "source": [
    "pretty_print(supplementary_count)"
   ]
  },
  {
   "cell_type": "markdown",
   "id": "9d3a1a0c-454e-484b-bf59-c998addd15c3",
   "metadata": {},
   "source": [
    "<br>\n",
    "\n",
    "### Parameter: `gender`\n",
    "\n",
    "**Description:**  \n",
    "This parameter represents the gender of the driving instructors listed. It’s typically self-declared or inferred from profiles.\n",
    "\n",
    "---\n",
    "\n",
    "**Top Gender Distribution**\n",
    "\n",
    "| Gender | Count |\n",
    "|--------|-------|\n",
    "| Male   | 188   |\n",
    "| Female | 3     |\n",
    "\n",
    "---\n",
    "\n",
    "**Analysis**\n",
    "\n",
    "- The instructor pool is **overwhelmingly male** (188 out of 191), indicating a strong gender imbalance in the industry.\n",
    "- Female representation is minimal, making up less than **2%** of the total entries.\n"
   ]
  },
  {
   "cell_type": "code",
   "execution_count": 113,
   "id": "abd700e0-7d5d-4711-af2a-9bdcf65e3334",
   "metadata": {},
   "outputs": [
    {
     "name": "stdout",
     "output_type": "stream",
     "text": [
      "F: 3\n",
      "M: 188\n"
     ]
    }
   ],
   "source": [
    "pretty_print(gender_count)"
   ]
  },
  {
   "cell_type": "markdown",
   "id": "ae1d1aa5-8d27-4259-8b0d-9d26b7ef834c",
   "metadata": {},
   "source": [
    "<br>\n",
    "\n",
    "### Parameter: `car type`\n",
    "\n",
    "**Description:**  \n",
    "This parameter indicates the types of vehicles the instructor is qualified or available to teach with. It includes private cars (automatic/manual) and light goods vehicles (automatic/manual), sometimes in combination.\n",
    "\n",
    "---\n",
    "\n",
    "**Top 3 Most Common Car Types**\n",
    "\n",
    "| Car Type                                         | Count |\n",
    "|--------------------------------------------------|-------|\n",
    "| Private Car - Automatic                          | 75    |\n",
    "| No entry                                         | 57    |\n",
    "| Private Car - Automatic, Light Goods - Manual    | 19    |\n",
    "\n",
    "---\n",
    "\n",
    "**Analysis**\n",
    "\n",
    "- The most common vehicle type is **Private Car - Automatic**, with 75 instructors offering it.\n",
    "- Many instructors provide combinations, indicating versatility across transmission types and vehicle classes.\n",
    "- A significant number (57) did not list their vehicle type, possibly due to missing data or profile omission.\n"
   ]
  },
  {
   "cell_type": "code",
   "execution_count": 124,
   "id": "ea6eadda-666b-4d72-b72b-a5e0e8c7aa92",
   "metadata": {
    "collapsed": true,
    "jupyter": {
     "outputs_hidden": true
    },
    "scrolled": true
   },
   "outputs": [
    {
     "name": "stdout",
     "output_type": "stream",
     "text": [
      "No entry: 57\n",
      "輕型貨車-自動波: 11\n",
      "私家車-自動波: 75\n",
      "輕型貨車-自動波, 輕型貨車-棍波: 4\n",
      "私家車-自動波, 輕型貨車-自動波, 輕型貨車-棍波: 3\n",
      "輕型貨車-棍波: 15\n",
      "私家車-自動波, 輕型貨車-自動波: 4\n",
      "私家車-自動波, 私家車-棍波, 輕型貨車-自動波: 1\n",
      "私家車-自動波, 輕型貨車-棍波: 19\n",
      "私家車-自動波, 私家車-棍波: 2\n"
     ]
    }
   ],
   "source": [
    "pretty_print(car_type_count)"
   ]
  },
  {
   "cell_type": "markdown",
   "id": "33e7633d-08b8-4f48-8e51-51a06d0635da",
   "metadata": {},
   "source": [
    "<br>\n",
    "\n",
    "### Parameter: `car model`\n",
    "\n",
    "**Description:**  \n",
    "This parameter lists the specific car models used by driving instructors. Entries include both individual vehicles and combinations (when instructors use multiple models). Models span common private cars and vans such as the Toyota Hiace.\n",
    "\n",
    "---\n",
    "\n",
    "**Top 3 Most Common Car Models**\n",
    "\n",
    "| Car Model         | Count |\n",
    "|-------------------|-------|\n",
    "| No entry          | 57    |\n",
    "| Toyota Prius C    | 38    |\n",
    "| Toyota Hiace      | 26    |\n",
    "\n",
    "---\n",
    "\n",
    "**Analysis**\n",
    "\n",
    "- **Toyota Prius C** is the most commonly listed individual model, suggesting it is popular among instructors for its efficiency and compact size.\n",
    "- **Toyota Hiace**, a light goods vehicle, appears frequently, indicating that many instructors also train for commercial or transport vehicle licenses.\n",
    "- A significant portion of entries have **no listed model**, possibly due to incomplete data or intentionally omitted fields.\n"
   ]
  },
  {
   "cell_type": "code",
   "execution_count": 125,
   "id": "11aaaa6e-4ab0-4dad-9675-8b91d6621f72",
   "metadata": {
    "collapsed": true,
    "jupyter": {
     "outputs_hidden": true
    }
   },
   "outputs": [
    {
     "name": "stdout",
     "output_type": "stream",
     "text": [
      "No entry: 57\n",
      "Toyota Prius C: 38\n",
      "Honda Jazz, Toyota Yaris: 1\n",
      "Toyota Prius C, Toyota Hiace: 12\n",
      "Honda Jazz, Toyota Hiace: 3\n",
      "Toyota Sienta, Toyota Hiace: 1\n",
      "Honda Jazz, Toyota Echo, Toyota Hiace: 1\n",
      "Toyota Yaris: 10\n",
      "Toyota Hiace 200, Toyota Hiace: 1\n",
      "Toyota Hiace, Toyota Hiace: 3\n",
      "Honda Fit Hybrid, Toyota Hiace: 1\n",
      "Toyota Corolla, Toyota Hiace: 1\n",
      "Honda Jazz RS 2024: 1\n",
      "Toyota Yaris, Toyota Hiace: 1\n",
      "Toyota Prius C, Toyota Echo: 1\n",
      "Toyota Prius C, Toyota Hiace, Toyota Hiace: 3\n",
      "BYD Dolphin, Toyota Hiace: 1\n",
      "Toyota Spade: 1\n",
      "Honda Fit Hybrid: 1\n",
      "Toyota Aqua, Toyota Hiace: 1\n",
      "Kia Morning, Toyota Hiace: 2\n",
      "Toyota Echo: 1\n",
      "Nissan e-power: 2\n",
      "Nissan Note: 1\n",
      "Honda Jazz: 17\n",
      "BYD Dolphin: 3\n",
      "Toyota Hiace: 26\n"
     ]
    }
   ],
   "source": [
    "pretty_print(car_model_count)"
   ]
  },
  {
   "cell_type": "markdown",
   "id": "b006ed9d-24c6-44fc-aac7-aa4b96863c40",
   "metadata": {},
   "source": [
    "<br>\n",
    "\n",
    "### Parameter: `disability accommodation`\n",
    "\n",
    "**Description:**  \n",
    "This parameter indicates whether the driving instructor offers accommodations or services tailored for individuals with disabilities.\n",
    "\n",
    "---\n",
    "\n",
    "**Top Values**\n",
    "\n",
    "| Accommodation Available | Count |\n",
    "|--------------------------|-------|\n",
    "| No (False)               | 174   |\n",
    "| Yes (True)               | 17    |\n",
    "\n",
    "---\n",
    "\n",
    "**Analysis**\n",
    "\n",
    "- Only **17 instructors** out of 191 explicitly offer disability accommodations, making up less than **9%** of the total.\n",
    "- The vast majority **(91%)** do not provide or have not indicated any accommodations, highlighting a potential gap in accessibility within the driving instruction sector.\n"
   ]
  },
  {
   "cell_type": "code",
   "execution_count": 126,
   "id": "6d2c116a-cfb6-43ff-a0a7-832ba5fc384d",
   "metadata": {
    "collapsed": true,
    "jupyter": {
     "outputs_hidden": true
    }
   },
   "outputs": [
    {
     "name": "stdout",
     "output_type": "stream",
     "text": [
      "FALSE: 174\n",
      "TRUE: 17\n"
     ]
    }
   ],
   "source": [
    "pretty_print(disability_count)"
   ]
  },
  {
   "cell_type": "markdown",
   "id": "c406561f-0a97-43b5-870e-137eb137700a",
   "metadata": {},
   "source": [
    "<br>\n",
    "\n",
    "### Parameter: `awards`\n",
    "\n",
    "**Description:**  \n",
    "This parameter lists any honors, awards, certifications, or professional memberships that instructors have received. These recognitions may indicate quality, experience, or industry acknowledgment.\n"
   ]
  },
  {
   "cell_type": "code",
   "execution_count": 127,
   "id": "059cf654-730b-4802-b1d8-99715569f1dd",
   "metadata": {
    "collapsed": true,
    "jupyter": {
     "outputs_hidden": true
    }
   },
   "outputs": [
    {
     "name": "stdout",
     "output_type": "stream",
     "text": [
      "No entry: 187\n",
      "運輸署優質駕駛導師\n",
      "香港汽車高級駕駛協會會員\n",
      "查看證書: 2\n",
      "全港公開安全駕駛比賽\n",
      "查看證書: 1\n",
      "全港公開安全駕駛比賽優異獎\n",
      "2001年全港公開組私家車自動波第二名\n",
      "Driver of The Year 1993第一名\n",
      "查看證書: 1\n"
     ]
    }
   ],
   "source": [
    "pretty_print(awards_count)"
   ]
  },
  {
   "cell_type": "markdown",
   "id": "604fc6b3-d890-464c-a108-e1caeff39c54",
   "metadata": {},
   "source": [
    "<br>\n",
    "\n",
    "### Parameter: `session duration (45 minutes/session HKD)`\n",
    "\n",
    "**Description:**  \n",
    "This parameter standardizes the cost of a driving lesson based on a 45-minute session. The value **191** indicates the total number of instructors with session durations recorded in this format.\n",
    "\n",
    "- All **191 instructors** use a 45-minute session structure, suggesting it is the industry standard."
   ]
  },
  {
   "cell_type": "code",
   "execution_count": 128,
   "id": "6180a44a-49a3-49ae-a290-e8fb898da739",
   "metadata": {},
   "outputs": [
    {
     "name": "stdout",
     "output_type": "stream",
     "text": [
      "（45分鐘/堂 HKD）: 191\n"
     ]
    }
   ],
   "source": [
    "pretty_print(session_count)"
   ]
  },
  {
   "cell_type": "markdown",
   "id": "bed3174e-09a4-49c8-a5f7-a30318ec0fe2",
   "metadata": {},
   "source": [
    "<br>\n",
    "\n",
    "### Parameter: `number of car options offered`\n",
    "\n",
    "**Description:**  \n",
    "This parameter represents how many different car models or types each instructor offers for driving lessons. It reflects the flexibility or variety available in their teaching fleet.\n",
    "\n",
    "---\n",
    "\n",
    "**Top 3 Most Common Counts**\n",
    "\n",
    "| Number of Car Options | Count |\n",
    "|------------------------|-------|\n",
    "| 1                      | 101   |\n",
    "| 0 (No info)            | 52    |\n",
    "| 2                      | 33    |\n",
    "\n",
    "---\n",
    "\n",
    "**Analysis**\n",
    "\n",
    "- A **majority (101 instructors)** offer just **one car option**, likely aligning with the most common license type (e.g., private automatic).\n",
    "- **52 instructors** did not specify any car options, indicating missing data or unlisted details.\n",
    "- A smaller group offers **2 or more vehicle types**, showing greater versatility or broader service coverage.\n"
   ]
  },
  {
   "cell_type": "code",
   "execution_count": 129,
   "id": "1be7b340-0994-408b-8cc5-8add374c7a8b",
   "metadata": {
    "collapsed": true,
    "jupyter": {
     "outputs_hidden": true
    },
    "scrolled": true
   },
   "outputs": [
    {
     "name": "stdout",
     "output_type": "stream",
     "text": [
      "0: 52\n",
      "3: 4\n",
      "1: 101\n",
      "2: 33\n",
      "7: 1\n"
     ]
    }
   ],
   "source": [
    "pretty_print(num_count)"
   ]
  },
  {
   "cell_type": "markdown",
   "id": "d970bc55-34f0-4097-bb1f-ce386c00d602",
   "metadata": {},
   "source": [
    "<br>\n",
    "\n",
    "### Parameter: `rent car types`\n",
    "\n",
    "**Description:**  \n",
    "This parameter details the types of rental cars available for driving lessons, including distinctions between vehicle class (light goods vehicle vs. private car) and transmission type (manual vs. automatic).\n",
    "\n",
    "---\n",
    "\n",
    "**Top 3 Most Common Rent Car Types**\n",
    "\n",
    "| Rent Car Type          | Count |\n",
    "|-----------------------|-------|\n",
    "| Private Car - Automatic| 125   |\n",
    "| Light Goods Vehicle - Automatic | 29    |\n",
    "| Light Goods Vehicle - Manual  | 19    |\n",
    "\n",
    "---\n",
    "\n",
    "**Analysis**\n",
    "\n",
    "- The most commonly offered rental car is a **private car with automatic transmission**, reflecting demand and learner preference.\n",
    "- Light goods vehicles, both automatic and manual, are also available but less frequently.\n",
    "- **18 entries have no specified rent car type**, indicating incomplete data or unlisted options.\n"
   ]
  },
  {
   "cell_type": "code",
   "execution_count": 130,
   "id": "aacc255f-f20e-4025-b016-f63ec7c03d20",
   "metadata": {},
   "outputs": [
    {
     "name": "stdout",
     "output_type": "stream",
     "text": [
      "No entry: 18\n",
      "輕型貨車 - 棍波: 19\n",
      "輕型貨車 - 自動波: 29\n",
      "私家車 - 自動波: 125\n"
     ]
    }
   ],
   "source": [
    "pretty_print(rent_car_type_count)"
   ]
  },
  {
   "cell_type": "markdown",
   "id": "faa8aee7-8d44-4aa7-8866-bd6e21a283ac",
   "metadata": {},
   "source": [
    "<br>\n",
    "\n",
    "### Parameter: `toll fee`\n",
    "\n",
    "**Description:**  \n",
    "This parameter represents the toll fee (in HKD) associated with the driving lessons or vehicles used. The values indicate the amount charged or recorded per toll usage.\n",
    "\n",
    "---\n",
    "\n",
    "**Top 3 Most Common Toll Fees**\n",
    "\n",
    "| Toll Fee (HKD) | Count |\n",
    "|----------------|-------|\n",
    "| 350            | 60    |\n",
    "| 330            | 29    |\n",
    "| 340            | 26    |\n",
    "\n",
    "---\n",
    "\n",
    "**Analysis**\n",
    "\n",
    "- The most frequent toll fee charged is **350 HKD**, followed by **330 HKD** and **340 HKD**, indicating a typical range around these amounts.\n",
    "- A notable number of entries (**18**) have no recorded toll fee, possibly due to omission or zero charges.\n",
    "- Fees vary moderately, with some lower (300 HKD) and higher (450 HKD) outliers.\n"
   ]
  },
  {
   "cell_type": "code",
   "execution_count": 131,
   "id": "f40e0532-3d10-4070-8079-f2912c8195c6",
   "metadata": {
    "collapsed": true,
    "jupyter": {
     "outputs_hidden": true
    },
    "scrolled": true
   },
   "outputs": [
    {
     "name": "stdout",
     "output_type": "stream",
     "text": [
      "310: 4\n",
      "No entry: 18\n",
      "330: 29\n",
      "450: 1\n",
      "420: 3\n",
      "340: 26\n",
      "400: 6\n",
      "320: 13\n",
      "355: 1\n",
      "370: 2\n",
      "360: 5\n",
      "300: 7\n",
      "350: 60\n",
      "380: 16\n"
     ]
    }
   ],
   "source": [
    "pretty_print(toll_count)"
   ]
  },
  {
   "cell_type": "markdown",
   "id": "5d91b6e1-7189-453b-9453-db966f2eb743",
   "metadata": {},
   "source": [
    "<br>\n",
    "\n",
    "### Parameter: `car rental fee`\n",
    "\n",
    "**Description:**  \n",
    "This parameter shows the rental fee amount (in HKD) charged for car rentals used is **HKD 2,300** during driving lessons.\n",
    "\n",
    "- This consistency suggests a standardized rental pricing across most instructors."
   ]
  },
  {
   "cell_type": "code",
   "execution_count": 134,
   "id": "6d39ccc4-07ce-4b50-99bc-6993233211e8",
   "metadata": {},
   "outputs": [
    {
     "name": "stdout",
     "output_type": "stream",
     "text": [
      "No entry: 18\n",
      "2300: 173\n"
     ]
    }
   ],
   "source": [
    "pretty_print(car_rental_fee_count)"
   ]
  },
  {
   "cell_type": "markdown",
   "id": "548d8e24-0eb1-485d-a852-0c3b69ad15e3",
   "metadata": {},
   "source": [
    "<br>\n",
    "\n",
    "### Parameter: `car rental fee type`\n",
    "\n",
    "**Description:**  \n",
    "This parameter specifies the type of vehicle for which the car rental fee applies, categorized by vehicle class and transmission type.\n",
    "\n",
    "---\n",
    "\n",
    "**Top 3 Most Common Car Rental Fee Types**\n",
    "\n",
    "| Rental Fee Type           | Count |\n",
    "|--------------------------|-------|\n",
    "| Private Car - Automatic   | 137   |\n",
    "| Light Goods Vehicle - Automatic | 28    |\n",
    "| Light Goods Vehicle - Manual  | 19    |\n",
    "\n",
    "---\n",
    "\n",
    "**Analysis**\n",
    "\n",
    "- The majority of rental fees are associated with **private cars with automatic transmission**.\n",
    "- Light goods vehicles, both automatic and manual, make up the next largest groups.\n",
    "- Few entries are missing or represent less common categories such as private cars with manual transmission.\n"
   ]
  },
  {
   "cell_type": "code",
   "execution_count": 135,
   "id": "28f6695a-4f9f-443b-9300-3060967a23ac",
   "metadata": {},
   "outputs": [
    {
     "name": "stdout",
     "output_type": "stream",
     "text": [
      "No entry: 6\n",
      "私家車 - 自動波: 137\n",
      "輕型貨車 - 棍波: 19\n",
      "輕型貨車 - 自動波: 28\n",
      "私家車 - 棍波: 1\n"
     ]
    }
   ],
   "source": [
    "pretty_print(car_rental_type_count)"
   ]
  },
  {
   "cell_type": "markdown",
   "id": "dc526991-1958-44b1-8803-b8a72160284c",
   "metadata": {},
   "source": [
    "<br>\n",
    "\n",
    "### Parameter: `fee for licensed drivers (renewals)`\n",
    "\n",
    "**Description:**  \n",
    "This parameter indicates the discounted lesson fee offered to drivers who are renewing their licenses, reflecting possible price reductions for experienced drivers.\n",
    "\n",
    "---\n",
    "\n",
    "**Top 3 Most Common Fees**\n",
    "\n",
    "| Discounted Fee (HKD) | Count |\n",
    "|----------------------|-------|\n",
    "| 450                  | 46    |\n",
    "| 400                  | 32    |\n",
    "| 500                  | 32    |\n",
    "\n",
    "---\n",
    "\n",
    "**Analysis**\n",
    "\n",
    "- The most common discounted fees are **450 HKD**, **400 HKD**, and **500 HKD**, suggesting these are typical renewal rates.\n",
    "- A notable number of entries have **no entry (6)** or explicitly marked as \"none\" (18), indicating no discount or missing data.\n",
    "- Other fee values vary widely, showing some flexibility or differing pricing strategies among instructors.\n"
   ]
  },
  {
   "cell_type": "code",
   "execution_count": 136,
   "id": "620d2bab-50b8-49c3-a7b1-5d9559f949ac",
   "metadata": {
    "collapsed": true,
    "jupyter": {
     "outputs_hidden": true
    },
    "scrolled": true
   },
   "outputs": [
    {
     "name": "stdout",
     "output_type": "stream",
     "text": [
      "No entry: 6\n",
      "530: 1\n",
      "400: 32\n",
      "375: 1\n",
      "490: 1\n",
      "650: 1\n",
      "390: 1\n",
      "475: 1\n",
      "550: 11\n",
      "350: 4\n",
      "430: 6\n",
      "460: 3\n",
      "450: 46\n",
      "340: 1\n",
      "無: 18\n",
      "470: 1\n",
      "480: 14\n",
      "420: 8\n",
      "500: 32\n",
      "425: 1\n",
      "380: 2\n"
     ]
    }
   ],
   "source": [
    "pretty_print(licensed_count)"
   ]
  },
  {
   "cell_type": "markdown",
   "id": "4f84cba7-2e60-41a2-9912-a40c05353ca6",
   "metadata": {},
   "source": [
    "<br>\n",
    "\n",
    "### Parameter: `school fee`\n",
    "\n",
    "**Description:**  \n",
    "This parameter represents the fees charged to students attending driving lessons at schools, possibly reflecting special rates or packages.\n",
    "\n",
    "---\n",
    "\n",
    "**Top 3 Most Common School Fees**\n",
    "\n",
    "| School Fee (HKD) | Count |\n",
    "|------------------|-------|\n",
    "| 450              | 44    |\n",
    "| 400              | 42    |\n",
    "| 500              | 20    |\n",
    "\n",
    "---\n",
    "\n",
    "**Analysis**\n",
    "\n",
    "- The most frequent school fees are **450 HKD**, **400 HKD**, and **500 HKD**, indicating these are standard rates for school-based lessons.\n",
    "- Some entries have **no entry (6)** or are marked as \"none\" (19), suggesting either missing data or no special school fee applied.\n",
    "- Other fees vary widely, showing some diversity in pricing structures among different schools or instructors.\n"
   ]
  },
  {
   "cell_type": "code",
   "execution_count": 137,
   "id": "3c67818b-28a0-4b11-a7be-febd8dba5ac2",
   "metadata": {
    "collapsed": true,
    "jupyter": {
     "outputs_hidden": true
    },
    "scrolled": true
   },
   "outputs": [
    {
     "name": "stdout",
     "output_type": "stream",
     "text": [
      "No entry: 6\n",
      "430: 8\n",
      "520: 1\n",
      "450: 44\n",
      "420: 10\n",
      "480: 12\n",
      "500: 20\n",
      "400: 42\n",
      "無: 19\n",
      "440: 2\n",
      "550: 8\n",
      "375: 1\n",
      "370: 1\n",
      "425: 4\n",
      "390: 1\n",
      "470: 1\n",
      "350: 9\n",
      "380: 2\n"
     ]
    }
   ],
   "source": [
    "pretty_print(school_count)"
   ]
  },
  {
   "cell_type": "markdown",
   "id": "5c420964-032e-43ae-9023-d6600e0d363e",
   "metadata": {},
   "source": [
    "<br>\n",
    "\n",
    "### Parameter: `faculty fee`\n",
    "\n",
    "**Description:**  \n",
    "This parameter refers to special fees or discounts offered to faculty members, possibly reflecting negotiated rates for educational staff.\n",
    "\n",
    "---\n",
    "\n",
    "**Top 3 Most Common Faculty Fees**\n",
    "\n",
    "| Faculty Fee (HKD) | Count |\n",
    "|-------------------|-------|\n",
    "| 450               | 62    |\n",
    "| 400               | 28    |\n",
    "| 500               | 24    |\n",
    "\n",
    "---\n",
    "\n",
    "**Analysis**\n",
    "\n",
    "- The majority of faculty fees cluster around **450 HKD**, **400 HKD**, and **500 HKD**, indicating common pricing tiers for faculty discounts.\n",
    "- There are some entries with **no entry (6)** or marked as \"none\" (18), indicating missing data or no special faculty fee applied.\n",
    "- A few outliers exist with higher fees such as **600 HKD** and **700 HKD**, showing some variation in discount policies.\n"
   ]
  },
  {
   "cell_type": "code",
   "execution_count": 138,
   "id": "5e31397b-12ed-4749-a866-6eaca0d9ee23",
   "metadata": {
    "collapsed": true,
    "jupyter": {
     "outputs_hidden": true
    }
   },
   "outputs": [
    {
     "name": "stdout",
     "output_type": "stream",
     "text": [
      "No entry: 6\n",
      "430: 5\n",
      "475: 1\n",
      "450: 62\n",
      "420: 15\n",
      "480: 12\n",
      "500: 24\n",
      "400: 28\n",
      "440: 3\n",
      "550: 5\n",
      "600: 2\n",
      "370: 1\n",
      "無: 18\n",
      "390: 1\n",
      "425: 2\n",
      "350: 5\n",
      "700: 1\n"
     ]
    }
   ],
   "source": [
    "pretty_print(faculty_count)"
   ]
  },
  {
   "cell_type": "markdown",
   "id": "cef8d22a-fecf-49ac-9f8c-6cc4a4c9f564",
   "metadata": {},
   "source": [
    "<br>\n",
    "\n",
    "### Parameter: `insurance certificate`\n",
    "\n",
    "**Description:**  \n",
    "This parameter describes the types of insurance coverage provided by instructors for driving lessons, including liability and comprehensive insurance, as well as notes on accident compensation responsibility.\n",
    "\n",
    "---\n",
    "\n",
    "**Top 3 Most Common Insurance Types / Status**\n",
    "\n",
    "| Insurance / Status                              | Count |\n",
    "|------------------------------------------------|-------|\n",
    "| Third Party Insurance with half compensation   | 106   |\n",
    "| Comprehensive Insurance with half compensation | 54    |\n",
    "| No accident compensation method provided       | 21    |\n",
    "\n",
    "---\n",
    "\n",
    "**Analysis**\n",
    "\n",
    "- Most instructors provide **third party insurance** with the instructor bearing **half of the accident compensation cost** during lessons.\n",
    "- A significant portion offers **comprehensive insurance** with similar half compensation responsibility.\n",
    "- There are also multiple entries indicating **no accident compensation method provided** or missing insurance information, which may be a concern for learners.\n",
    "- A few instructors cover **full compensation** during lessons, but these are less common.\n"
   ]
  },
  {
   "cell_type": "code",
   "execution_count": 139,
   "id": "b0f291a4-75f8-4cc8-a6f0-f107cce76594",
   "metadata": {
    "collapsed": true,
    "jupyter": {
     "outputs_hidden": true
    }
   },
   "outputs": [
    {
     "name": "stdout",
     "output_type": "stream",
     "text": [
      "第三者保險\n",
      "汽車綜合保險\n",
      "師傅暫未提供事故賠償方式: 1\n",
      "第三者保險\n",
      "學車期間墊底費師傅承擔 全部: 2\n",
      "第三者保險\n",
      "師傅暫未提供事故賠償方式: 21\n",
      "師傅暫未提供保險資訊: 1\n",
      "師傅暫未提供保險資訊\n",
      "學車期間墊底費師傅承擔 一半: 2\n",
      "第三者保險\n",
      "學車期間墊底費師傅承擔 一半: 106\n",
      "汽車綜合保險\n",
      "師傅暫未提供事故賠償方式: 3\n",
      "第三者保險\n",
      "汽車綜合保險\n",
      "學車期間墊底費師傅承擔 一半: 1\n",
      "汽車綜合保險\n",
      "學車期間墊底費師傅承擔 一半: 54\n"
     ]
    }
   ],
   "source": [
    "pretty_print(insurance_count)"
   ]
  }
 ],
 "metadata": {
  "kernelspec": {
   "display_name": "Python 3 (ipykernel)",
   "language": "python",
   "name": "python3"
  },
  "language_info": {
   "codemirror_mode": {
    "name": "ipython",
    "version": 3
   },
   "file_extension": ".py",
   "mimetype": "text/x-python",
   "name": "python",
   "nbconvert_exporter": "python",
   "pygments_lexer": "ipython3",
   "version": "3.11.9"
  }
 },
 "nbformat": 4,
 "nbformat_minor": 5
}
